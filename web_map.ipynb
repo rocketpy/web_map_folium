{
 "cells": [
  {
   "cell_type": "code",
   "execution_count": null,
   "metadata": {},
   "outputs": [],
   "source": [
    "# documentation\n",
    "# https://python-visualization.github.io/folium/"
   ]
  },
  {
   "cell_type": "code",
   "execution_count": null,
   "metadata": {},
   "outputs": [],
   "source": [
    "# There are two galleries of Jupyter notebooks with examples\n",
    "\n",
    "# https://nbviewer.jupyter.org/github/python-visualization/folium/tree/master/examples/\n",
    "\n",
    "# https://nbviewer.jupyter.org/github/python-visualization/folium_contrib/tree/master/notebooks/"
   ]
  },
  {
   "cell_type": "code",
   "execution_count": 1,
   "metadata": {},
   "outputs": [],
   "source": [
    "# pip install folium\n",
    "import folium"
   ]
  },
  {
   "cell_type": "code",
   "execution_count": 2,
   "metadata": {},
   "outputs": [],
   "source": [
    "# create base map\n",
    "\n",
    "map = folium.Map(location=[37.296933,-121.9574983], zoom_start = 8)\n",
    "\n",
    "map.save(\"map.html\")  # save in this directory"
   ]
  },
  {
   "cell_type": "code",
   "execution_count": null,
   "metadata": {},
   "outputs": [],
   "source": [
    "# adding marker on the created map\n",
    "\n",
    "map = folium.Map(location=[37.296933,-121.9574983], zoom_start = 8, tiles = \"Mapbox bright\")\n",
    " \n",
    "folium.Marker(location=[37.4074687,-122.086669], popup = \"Google HQ\", icon=folium.Icon(color = 'gray')).add_to(map)\n",
    " \n",
    "map.save(\"map.html\")\n",
    "# tiles - use this for change background , relief on the map"
   ]
  },
  {
   "cell_type": "code",
   "execution_count": null,
   "metadata": {},
   "outputs": [],
   "source": [
    "# adding a few markers\n",
    "\n",
    "map = folium.Map(location=[37.296933,-121.9574983], zoom_start = 8, tiles = \"Mapbox bright\")\n",
    " \n",
    "for coordinates in [[37.4074687,-122.086669],[37.8199286,-122.4804438]]:\n",
    "    folium.Marker(location=coordinates, icon=folium.Icon(color = 'green')).add_to(map)\n",
    " \n",
    "map.save(\"map1.html\")"
   ]
  },
  {
   "cell_type": "code",
   "execution_count": null,
   "metadata": {},
   "outputs": [],
   "source": [
    "# adding markers from data\n",
    "\n",
    "import folium\n",
    "import pandas as pd\n",
    " \n",
    "data = pd.read_csv(\"file_name.txt\")\n",
    "lat = data['LAT']\n",
    "lon = data['LON']\n",
    "elevation = data['ELEV']\n",
    " \n",
    "map = folium.Map(location=[37.296933,-121.9574983], zoom_start = 5, tiles = \"Mapbox bright\")\n",
    " \n",
    "for lat, lon, elevation in zip(lat, lon, elevation):\n",
    "    folium.Marker(location=[lat, lon], popup=str(elevation)+\" m\", icon=folium.Icon(color = 'gray')).add_to(map)\n",
    " \n",
    "map.save(\"map1.html\")"
   ]
  },
  {
   "cell_type": "code",
   "execution_count": null,
   "metadata": {},
   "outputs": [],
   "source": []
  }
 ],
 "metadata": {
  "kernelspec": {
   "display_name": "Python 3",
   "language": "python",
   "name": "python3"
  },
  "language_info": {
   "codemirror_mode": {
    "name": "ipython",
    "version": 3
   },
   "file_extension": ".py",
   "mimetype": "text/x-python",
   "name": "python",
   "nbconvert_exporter": "python",
   "pygments_lexer": "ipython3",
   "version": "3.6.2"
  }
 },
 "nbformat": 4,
 "nbformat_minor": 2
}
